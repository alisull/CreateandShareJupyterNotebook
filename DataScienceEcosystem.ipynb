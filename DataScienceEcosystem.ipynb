{
 "cells": [
  {
   "cell_type": "markdown",
   "id": "b98f8518-8b4b-4983-93dc-8d3d676d6586",
   "metadata": {},
   "source": [
    "# Data Science Tools and Ecosystem"
   ]
  },
  {
   "cell_type": "markdown",
   "id": "b8b2d2c3-0c54-46a3-8021-9bbb636d8269",
   "metadata": {},
   "source": [
    "In this notebook, Data Science Tools and Ecosystem are summarized."
   ]
  },
  {
   "cell_type": "markdown",
   "id": "0a31995a-b3c5-467a-b375-b850bad54f98",
   "metadata": {},
   "source": [
    "**Objectives:**\n",
    "*  List popular languages for Data Science\n",
    "*  List commonly used libraries for Data Science\n",
    "*  Provide a table of Data Science Tools\n",
    "*  Evaluate basic arithmetic expressions"
   ]
  },
  {
   "cell_type": "markdown",
   "id": "5b84301a-bb25-4674-8116-585728f05d1f",
   "metadata": {},
   "source": [
    "Some of the popular languages that Data Scientists use are:\n",
    "1. Python\n",
    "2. R\n",
    "3. SQL\n",
    "4. Java\n",
    "5. Scala\n",
    "6. C++\n",
    "7. JavaScript\n",
    "8. Julia"
   ]
  },
  {
   "cell_type": "markdown",
   "id": "eafd7abb-ebf7-4df1-87b6-0f9af3c96051",
   "metadata": {},
   "source": [
    "Some of the commonly used libraries used by Data Scientists include:\n",
    "1. Pandas\n",
    "2. Numpy\n",
    "3. Matplotlib\n",
    "4. Seaborn\n",
    "5. Scikit-learn\n",
    "6. Keras"
   ]
  },
  {
   "cell_type": "markdown",
   "id": "ac6fa4e0-efef-4206-8f0e-e69c22c9c051",
   "metadata": {},
   "source": [
    "|Data Science Tools|\n",
    "|---|\n",
    "|MySQL|\n",
    "|KubeFlow|\n",
    "|GitHub|"
   ]
  },
  {
   "cell_type": "markdown",
   "id": "9cd06e4c-8159-4966-b5f4-3037b6844eae",
   "metadata": {},
   "source": [
    "### Below are a few examples of evaluating arithmetic expressions in Python"
   ]
  },
  {
   "cell_type": "code",
   "execution_count": 2,
   "id": "fa7cf9c0-e78b-4948-af9f-8639b26d13ff",
   "metadata": {},
   "outputs": [
    {
     "data": {
      "text/plain": [
       "17"
      ]
     },
     "execution_count": 2,
     "metadata": {},
     "output_type": "execute_result"
    }
   ],
   "source": [
    "#This a simple arithmetic expression to multiply then add integers.\n",
    "(3*4)+5"
   ]
  },
  {
   "cell_type": "code",
   "execution_count": 3,
   "id": "2b58a883-8921-4b87-b578-271c3344824a",
   "metadata": {},
   "outputs": [
    {
     "data": {
      "text/plain": [
       "3.3333333333333335"
      ]
     },
     "execution_count": 3,
     "metadata": {},
     "output_type": "execute_result"
    }
   ],
   "source": [
    "#This will convert 200 minutes to hours by diving by 60\n",
    "200/60"
   ]
  },
  {
   "cell_type": "markdown",
   "id": "7403423a-3dbb-4246-9a96-07faf80f43e3",
   "metadata": {},
   "source": [
    "## Author\n",
    "Alicia Sullivan"
   ]
  },
  {
   "cell_type": "code",
   "execution_count": null,
   "id": "be6e6c30-f68c-4685-b1cd-503a32a83b14",
   "metadata": {},
   "outputs": [],
   "source": []
  }
 ],
 "metadata": {
  "kernelspec": {
   "display_name": "Python 3 (ipykernel)",
   "language": "python",
   "name": "python3"
  },
  "language_info": {
   "codemirror_mode": {
    "name": "ipython",
    "version": 3
   },
   "file_extension": ".py",
   "mimetype": "text/x-python",
   "name": "python",
   "nbconvert_exporter": "python",
   "pygments_lexer": "ipython3",
   "version": "3.12.8"
  }
 },
 "nbformat": 4,
 "nbformat_minor": 5
}
